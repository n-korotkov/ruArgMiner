{
 "cells": [
  {
   "cell_type": "code",
   "execution_count": 1,
   "id": "b6842318",
   "metadata": {},
   "outputs": [
    {
     "name": "stderr",
     "output_type": "stream",
     "text": [
      "d:\\Documents\\nsu\\ruArgMiner\\.venv\\Lib\\site-packages\\tqdm\\auto.py:21: TqdmWarning: IProgress not found. Please update jupyter and ipywidgets. See https://ipywidgets.readthedocs.io/en/stable/user_install.html\n",
      "  from .autonotebook import tqdm as notebook_tqdm\n"
     ]
    }
   ],
   "source": [
    "import torch\n",
    "import matplotlib.pyplot as plt\n",
    "from pathlib import Path\n",
    "\n",
    "from datasets import Dataset\n",
    "\n",
    "from sklearn.metrics import roc_auc_score, roc_curve\n",
    "\n",
    "from transformers import enable_full_determinism\n",
    "\n",
    "from sentence_transformers import SentenceTransformer, SentenceTransformerTrainer, SentenceTransformerTrainingArguments\n",
    "from sentence_transformers.losses import TripletLoss, TripletDistanceMetric\n"
   ]
  },
  {
   "cell_type": "code",
   "execution_count": 2,
   "id": "0ee6858e",
   "metadata": {},
   "outputs": [],
   "source": [
    "RANDOM_STATE = 42\n",
    "NUM_UNFROZEN_TRANSFORMER_LAYERS = 8\n",
    "NUM_EPOCHS = 1\n",
    "BATCH_SIZE = 8\n",
    "TRIPLET_DATASET_DIR = Path('../datasets/similarity_learning/1ctx_transitive')\n",
    "RANDOM_PAIR_DATASET_DIR = Path('../datasets/random_pairs/1ctx')\n"
   ]
  },
  {
   "cell_type": "code",
   "execution_count": 3,
   "id": "9465efa3",
   "metadata": {},
   "outputs": [
    {
     "name": "stdout",
     "output_type": "stream",
     "text": [
      "Using device \"cuda\"\n"
     ]
    }
   ],
   "source": [
    "enable_full_determinism(RANDOM_STATE)\n",
    "device = 'cuda' if torch.cuda.is_available() else 'cpu'\n",
    "print(f'Using device \"{device}\"')\n"
   ]
  },
  {
   "cell_type": "code",
   "execution_count": 4,
   "id": "94504705",
   "metadata": {},
   "outputs": [],
   "source": [
    "train_dataset = Dataset.load_from_disk(TRIPLET_DATASET_DIR / 'train')\n",
    "eval_dataset  = Dataset.load_from_disk(TRIPLET_DATASET_DIR / 'eval')\n",
    "test_dataset  = Dataset.load_from_disk(TRIPLET_DATASET_DIR / 'test')\n"
   ]
  },
  {
   "cell_type": "code",
   "execution_count": 5,
   "id": "a475bcd4",
   "metadata": {},
   "outputs": [],
   "source": [
    "def prepare_dataset(data: Dataset):\n",
    "    anchors = [f'{row[\"anchor_left\"]}. {row[\"anchor\"]}. {row[\"anchor_right\"]}' for row in data]\n",
    "    positives = [f'{row[\"positive_left\"]}. {row[\"positive\"]}. {row[\"positive_right\"]}' for row in data]\n",
    "    negatives = [f'{row[\"negative_left\"]}. {row[\"negative\"]}. {row[\"negative_right\"]}' for row in data]\n",
    "    dataset_dict = { 'anchor': anchors, 'positive': positives, 'negative': negatives }\n",
    "    return Dataset.from_dict(dataset_dict)\n",
    "\n",
    "train_dataset_tok = prepare_dataset(train_dataset)\n",
    "eval_dataset_tok = prepare_dataset(eval_dataset)\n",
    "test_dataset_tok = prepare_dataset(test_dataset)\n"
   ]
  },
  {
   "cell_type": "code",
   "execution_count": 6,
   "id": "255f7e6a",
   "metadata": {},
   "outputs": [
    {
     "name": "stderr",
     "output_type": "stream",
     "text": [
      "Some weights of RobertaModel were not initialized from the model checkpoint at ai-forever/ru-en-RoSBERTa and are newly initialized: ['pooler.dense.bias', 'pooler.dense.weight']\n",
      "You should probably TRAIN this model on a down-stream task to be able to use it for predictions and inference.\n"
     ]
    },
    {
     "data": {
      "text/plain": [
       "SentenceTransformer(\n",
       "  (0): Transformer({'max_seq_length': 512, 'do_lower_case': False}) with Transformer model: RobertaModel \n",
       "  (1): Pooling({'word_embedding_dimension': 1024, 'pooling_mode_cls_token': True, 'pooling_mode_mean_tokens': False, 'pooling_mode_max_tokens': False, 'pooling_mode_mean_sqrt_len_tokens': False, 'pooling_mode_weightedmean_tokens': False, 'pooling_mode_lasttoken': False, 'include_prompt': True})\n",
       "  (2): Normalize()\n",
       ")"
      ]
     },
     "execution_count": 6,
     "metadata": {},
     "output_type": "execute_result"
    }
   ],
   "source": [
    "model = SentenceTransformer('ai-forever/ru-en-RoSBERTa', similarity_fn_name='cosine')\n",
    "model[0].auto_model.requires_grad_(False)\n",
    "for i in range(NUM_UNFROZEN_TRANSFORMER_LAYERS):\n",
    "    model[0].auto_model.encoder.layer[-1 - i].requires_grad_(True)\n",
    "model[0].auto_model.pooler.requires_grad_(True)\n",
    "model.to(device)\n"
   ]
  },
  {
   "cell_type": "code",
   "execution_count": 7,
   "id": "42408a9c",
   "metadata": {},
   "outputs": [
    {
     "name": "stderr",
     "output_type": "stream",
     "text": [
      "                                                                     \r"
     ]
    }
   ],
   "source": [
    "training_args = SentenceTransformerTrainingArguments(\n",
    "    output_dir='trainer_output',\n",
    "    report_to='none',\n",
    "    num_train_epochs=NUM_EPOCHS,\n",
    "    per_device_train_batch_size=BATCH_SIZE,\n",
    "    per_device_eval_batch_size=BATCH_SIZE,\n",
    "    eval_strategy='steps',\n",
    "    eval_steps=512,\n",
    "    logging_steps=512,\n",
    "    save_steps=512,\n",
    "    save_total_limit=3,\n",
    "    learning_rate=1e-5,\n",
    "    warmup_ratio=0.1,\n",
    "    fp16=True,\n",
    "    load_best_model_at_end=True,\n",
    ")\n",
    "\n",
    "trainer = SentenceTransformerTrainer(\n",
    "    model=model,\n",
    "    args=training_args,\n",
    "    train_dataset=train_dataset_tok,\n",
    "    eval_dataset=eval_dataset_tok,\n",
    "    loss=TripletLoss(model, TripletDistanceMetric.COSINE, 0.2),\n",
    ")\n"
   ]
  },
  {
   "cell_type": "code",
   "execution_count": 8,
   "id": "e6af7f07",
   "metadata": {},
   "outputs": [
    {
     "data": {
      "text/html": [
       "\n",
       "    <div>\n",
       "      \n",
       "      <progress value='4295' max='4295' style='width:300px; height:20px; vertical-align: middle;'></progress>\n",
       "      [4295/4295 1:45:32, Epoch 1/1]\n",
       "    </div>\n",
       "    <table border=\"1\" class=\"dataframe\">\n",
       "  <thead>\n",
       " <tr style=\"text-align: left;\">\n",
       "      <th>Step</th>\n",
       "      <th>Training Loss</th>\n",
       "      <th>Validation Loss</th>\n",
       "    </tr>\n",
       "  </thead>\n",
       "  <tbody>\n",
       "    <tr>\n",
       "      <td>512</td>\n",
       "      <td>0.093200</td>\n",
       "      <td>0.100999</td>\n",
       "    </tr>\n",
       "    <tr>\n",
       "      <td>1024</td>\n",
       "      <td>0.084700</td>\n",
       "      <td>0.099836</td>\n",
       "    </tr>\n",
       "    <tr>\n",
       "      <td>1536</td>\n",
       "      <td>0.082600</td>\n",
       "      <td>0.098934</td>\n",
       "    </tr>\n",
       "    <tr>\n",
       "      <td>2048</td>\n",
       "      <td>0.080000</td>\n",
       "      <td>0.096589</td>\n",
       "    </tr>\n",
       "    <tr>\n",
       "      <td>2560</td>\n",
       "      <td>0.073800</td>\n",
       "      <td>0.097648</td>\n",
       "    </tr>\n",
       "    <tr>\n",
       "      <td>3072</td>\n",
       "      <td>0.073100</td>\n",
       "      <td>0.097066</td>\n",
       "    </tr>\n",
       "    <tr>\n",
       "      <td>3584</td>\n",
       "      <td>0.067100</td>\n",
       "      <td>0.097314</td>\n",
       "    </tr>\n",
       "    <tr>\n",
       "      <td>4096</td>\n",
       "      <td>0.069700</td>\n",
       "      <td>0.096424</td>\n",
       "    </tr>\n",
       "  </tbody>\n",
       "</table><p>"
      ],
      "text/plain": [
       "<IPython.core.display.HTML object>"
      ]
     },
     "metadata": {},
     "output_type": "display_data"
    },
    {
     "data": {
      "text/plain": [
       "TrainOutput(global_step=4295, training_loss=0.07743057854933288, metrics={'train_runtime': 6333.2934, 'train_samples_per_second': 5.425, 'train_steps_per_second': 0.678, 'total_flos': 0.0, 'train_loss': 0.07743057854933288, 'epoch': 1.0})"
      ]
     },
     "execution_count": 8,
     "metadata": {},
     "output_type": "execute_result"
    }
   ],
   "source": [
    "trainer.train()\n"
   ]
  },
  {
   "cell_type": "code",
   "execution_count": 9,
   "id": "481107b1",
   "metadata": {},
   "outputs": [],
   "source": [
    "random_eval_dataset  = Dataset.load_from_disk(RANDOM_PAIR_DATASET_DIR / 'eval')\n",
    "random_eval_premises = [f'{row[\"fragment1_left\"]}. {row[\"fragment1\"]}. {row[\"fragment1_right\"]}' for row in random_eval_dataset]\n",
    "random_eval_conclusions = [f'{row[\"fragment2_left\"]}. {row[\"fragment2\"]}. {row[\"fragment2_right\"]}' for row in random_eval_dataset]\n"
   ]
  },
  {
   "cell_type": "code",
   "execution_count": 10,
   "id": "b9323cf8",
   "metadata": {},
   "outputs": [],
   "source": [
    "eval_similarities = model.similarity_pairwise(model.encode(random_eval_premises), model.encode(random_eval_conclusions))\n",
    "eval_labels = random_eval_dataset['related']\n",
    "fpr, tpr, _ = roc_curve(eval_labels, eval_similarities)\n",
    "auc = roc_auc_score(eval_labels, eval_similarities)\n",
    "j_fpr, j_tpr = max(*zip(fpr, tpr), key=lambda z: 1 - z[0] + z[1])\n"
   ]
  },
  {
   "cell_type": "code",
   "execution_count": 11,
   "id": "6569044b",
   "metadata": {},
   "outputs": [
    {
     "name": "stdout",
     "output_type": "stream",
     "text": [
      "Specificity = 0.8285\n",
      "Sensitivity = 0.7863\n",
      "ROC-AUC     = 0.8600\n"
     ]
    },
    {
     "data": {
      "image/png": "[encoded data removed]",
      "text/plain": [
       "<Figure size 640x480 with 1 Axes>"
      ]
     },
     "metadata": {},
     "output_type": "display_data"
    }
   ],
   "source": [
    "fig, ax = plt.subplots()\n",
    "ax.set_aspect(1)\n",
    "ax.plot(fpr, tpr)\n",
    "ax.plot([j_fpr, j_fpr], [j_tpr, j_fpr], color='grey')\n",
    "ax.plot([0, 1], [0, 1], color='black', linestyle='--')\n",
    "ax.scatter([j_fpr], [j_tpr], zorder=2)\n",
    "ax.set_title('ROC curve')\n",
    "ax.set_xlabel('False positive rate')\n",
    "ax.set_ylabel('True positive rate')\n",
    "ax.set_xlim(0, 1)\n",
    "ax.set_ylim(0, 1)\n",
    "\n",
    "print(f'Specificity = {1 - j_fpr:0.4f}')\n",
    "print(f'Sensitivity = {j_tpr:0.4f}')\n",
    "print(f'ROC-AUC     = {auc:0.4f}')\n"
   ]
  }
 ],
 "metadata": {
  "kernelspec": {
   "display_name": ".venv",
   "language": "python",
   "name": "python3"
  },
  "language_info": {
   "codemirror_mode": {
    "name": "ipython",
    "version": 3
   },
   "file_extension": ".py",
   "mimetype": "text/x-python",
   "name": "python",
   "nbconvert_exporter": "python",
   "pygments_lexer": "ipython3",
   "version": "3.12.8"
  }
 },
 "nbformat": 4,
 "nbformat_minor": 5
}
