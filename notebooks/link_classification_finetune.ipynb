{
 "cells": [
  {
   "cell_type": "code",
   "execution_count": 1,
   "id": "7cbe52d0",
   "metadata": {},
   "outputs": [
    {
     "name": "stderr",
     "output_type": "stream",
     "text": [
      "d:\\Documents\\nsu\\ruArgMiner\\.venv\\Lib\\site-packages\\tqdm\\auto.py:21: TqdmWarning: IProgress not found. Please update jupyter and ipywidgets. See https://ipywidgets.readthedocs.io/en/stable/user_install.html\n",
      "  from .autonotebook import tqdm as notebook_tqdm\n"
     ]
    }
   ],
   "source": [
    "import torch\n",
    "import numpy as np\n",
    "from pathlib import Path\n",
    "\n",
    "from datasets import Dataset\n",
    "\n",
    "from sklearn.preprocessing import LabelEncoder\n",
    "from sklearn.metrics import accuracy_score, precision_recall_fscore_support\n",
    "\n",
    "from transformers import AutoTokenizer, AutoModelForSequenceClassification\n",
    "from transformers import TrainingArguments, Trainer\n",
    "from transformers import pipeline, enable_full_determinism\n"
   ]
  },
  {
   "cell_type": "code",
   "execution_count": 2,
   "id": "4d7c7689",
   "metadata": {},
   "outputs": [],
   "source": [
    "RANDOM_STATE = 42\n",
    "NUM_UNFROZEN_TRANSFORMER_LAYERS = 8\n",
    "NUM_EPOCHS = 3\n",
    "BATCH_SIZE = 32\n",
    "DATASET_DIR = Path('../datasets/link_classification/1ctx')\n"
   ]
  },
  {
   "cell_type": "code",
   "execution_count": 3,
   "id": "b213ad07",
   "metadata": {},
   "outputs": [
    {
     "name": "stdout",
     "output_type": "stream",
     "text": [
      "Using device \"cuda\"\n"
     ]
    }
   ],
   "source": [
    "enable_full_determinism(RANDOM_STATE)\n",
    "device = 'cuda' if torch.cuda.is_available() else 'cpu'\n",
    "print(f'Using device \"{device}\"')\n"
   ]
  },
  {
   "cell_type": "code",
   "execution_count": 4,
   "id": "12d4bb0f",
   "metadata": {},
   "outputs": [],
   "source": [
    "train_dataset = Dataset.load_from_disk(DATASET_DIR / 'train')\n",
    "eval_dataset  = Dataset.load_from_disk(DATASET_DIR / 'eval')\n",
    "test_dataset  = Dataset.load_from_disk(DATASET_DIR / 'test')\n"
   ]
  },
  {
   "cell_type": "code",
   "execution_count": 5,
   "id": "6440bfb4",
   "metadata": {},
   "outputs": [
    {
     "name": "stderr",
     "output_type": "stream",
     "text": [
      "Some weights of BertForSequenceClassification were not initialized from the model checkpoint at ai-forever/ruBert-base and are newly initialized: ['classifier.bias', 'classifier.weight']\n",
      "You should probably TRAIN this model on a down-stream task to be able to use it for predictions and inference.\n"
     ]
    },
    {
     "data": {
      "text/plain": [
       "BertForSequenceClassification(\n",
       "  (bert): BertModel(\n",
       "    (embeddings): BertEmbeddings(\n",
       "      (word_embeddings): Embedding(120138, 768, padding_idx=0)\n",
       "      (position_embeddings): Embedding(512, 768)\n",
       "      (token_type_embeddings): Embedding(2, 768)\n",
       "      (LayerNorm): LayerNorm((768,), eps=1e-12, elementwise_affine=True)\n",
       "      (dropout): Dropout(p=0.1, inplace=False)\n",
       "    )\n",
       "    (encoder): BertEncoder(\n",
       "      (layer): ModuleList(\n",
       "        (0-11): 12 x BertLayer(\n",
       "          (attention): BertAttention(\n",
       "            (self): BertSdpaSelfAttention(\n",
       "              (query): Linear(in_features=768, out_features=768, bias=True)\n",
       "              (key): Linear(in_features=768, out_features=768, bias=True)\n",
       "              (value): Linear(in_features=768, out_features=768, bias=True)\n",
       "              (dropout): Dropout(p=0.1, inplace=False)\n",
       "            )\n",
       "            (output): BertSelfOutput(\n",
       "              (dense): Linear(in_features=768, out_features=768, bias=True)\n",
       "              (LayerNorm): LayerNorm((768,), eps=1e-12, elementwise_affine=True)\n",
       "              (dropout): Dropout(p=0.1, inplace=False)\n",
       "            )\n",
       "          )\n",
       "          (intermediate): BertIntermediate(\n",
       "            (dense): Linear(in_features=768, out_features=3072, bias=True)\n",
       "            (intermediate_act_fn): GELUActivation()\n",
       "          )\n",
       "          (output): BertOutput(\n",
       "            (dense): Linear(in_features=3072, out_features=768, bias=True)\n",
       "            (LayerNorm): LayerNorm((768,), eps=1e-12, elementwise_affine=True)\n",
       "            (dropout): Dropout(p=0.1, inplace=False)\n",
       "          )\n",
       "        )\n",
       "      )\n",
       "    )\n",
       "    (pooler): BertPooler(\n",
       "      (dense): Linear(in_features=768, out_features=768, bias=True)\n",
       "      (activation): Tanh()\n",
       "    )\n",
       "  )\n",
       "  (dropout): Dropout(p=0.1, inplace=False)\n",
       "  (classifier): Linear(in_features=768, out_features=3, bias=True)\n",
       ")"
      ]
     },
     "execution_count": 5,
     "metadata": {},
     "output_type": "execute_result"
    }
   ],
   "source": [
    "tokenizer = AutoTokenizer.from_pretrained('ai-forever/ruBert-base')\n",
    "label_encoder = LabelEncoder().fit(train_dataset['label'])\n",
    "\n",
    "model = AutoModelForSequenceClassification.from_pretrained('ai-forever/ruBert-base', num_labels=label_encoder.classes_.size)\n",
    "model.bert.requires_grad_(False)\n",
    "for i in range(NUM_UNFROZEN_TRANSFORMER_LAYERS):\n",
    "    model.bert.encoder.layer[-1 - i].requires_grad_(True)\n",
    "model.to(device)\n"
   ]
  },
  {
   "cell_type": "code",
   "execution_count": 6,
   "id": "424534ba",
   "metadata": {},
   "outputs": [
    {
     "name": "stderr",
     "output_type": "stream",
     "text": [
      "Map: 100%|██████████| 15467/15467 [00:02<00:00, 5860.53 examples/s]\n",
      "Map: 100%|██████████| 1499/1499 [00:00<00:00, 5867.94 examples/s]\n",
      "Map: 100%|██████████| 1428/1428 [00:00<00:00, 5757.99 examples/s]\n"
     ]
    }
   ],
   "source": [
    "encode_kwargs = {\n",
    "    'max_length': 256,\n",
    "    'padding': 'max_length',\n",
    "    'truncation': True,\n",
    "    'return_tensors': 'pt',\n",
    "}\n",
    "\n",
    "def tokenize_dataset(data):\n",
    "    premises = [f'{row[\"fragment1_left\"]}. {row[\"fragment1\"]}. {row[\"fragment1_right\"]}' for row in data]\n",
    "    conclusions = [f'{row[\"fragment2_left\"]}. {row[\"fragment2\"]}. {row[\"fragment2_right\"]}' for row in data]\n",
    "    dataset = Dataset.from_dict({\n",
    "        'text': list(zip(premises, conclusions)),\n",
    "        'label': label_encoder.transform(data['label'])\n",
    "    })\n",
    "    return dataset.map(lambda x: tokenizer(x['text'], **encode_kwargs), batched=True)\n",
    "\n",
    "train_dataset_tok = tokenize_dataset(train_dataset)\n",
    "eval_dataset_tok = tokenize_dataset(eval_dataset)\n",
    "test_dataset_tok = tokenize_dataset(test_dataset)\n"
   ]
  },
  {
   "cell_type": "code",
   "execution_count": null,
   "id": "3a130260",
   "metadata": {},
   "outputs": [],
   "source": [
    "def compute_metrics(eval_pred):\n",
    "    logits, labels = eval_pred\n",
    "    predictions = np.argmax(logits, axis=-1)\n",
    "    accuracy = accuracy_score(labels, predictions)\n",
    "    precision, recall, f1, _ = precision_recall_fscore_support(labels, predictions, average='macro', zero_division=0)\n",
    "    return {'acc': accuracy, 'prec': precision, 'recall': recall, 'f1': f1}\n",
    "\n",
    "training_args = TrainingArguments(\n",
    "    output_dir='trainer_output',\n",
    "    report_to='none',\n",
    "    num_train_epochs=NUM_EPOCHS,\n",
    "    per_device_train_batch_size=BATCH_SIZE,\n",
    "    per_device_eval_batch_size=BATCH_SIZE,\n",
    "    eval_strategy='steps',\n",
    "    eval_steps=128,\n",
    "    logging_steps=128,\n",
    "    save_steps=128,\n",
    "    save_total_limit=3,\n",
    "    learning_rate=5e-5,\n",
    "    warmup_ratio=0.1,\n",
    "    fp16=True,\n",
    "    load_best_model_at_end=True,\n",
    "    metric_for_best_model='f1',\n",
    "    \n",
    ")\n",
    "\n",
    "trainer = Trainer(\n",
    "    model=model,\n",
    "    args=training_args,\n",
    "    train_dataset=train_dataset_tok,\n",
    "    eval_dataset=eval_dataset_tok,\n",
    "    compute_metrics=compute_metrics,\n",
    ")\n"
   ]
  },
  {
   "cell_type": "code",
   "execution_count": 8,
   "id": "7a2e7eb0",
   "metadata": {},
   "outputs": [
    {
     "data": {
      "text/html": [
       "\n",
       "    <div>\n",
       "      \n",
       "      <progress value='1452' max='1452' style='width:300px; height:20px; vertical-align: middle;'></progress>\n",
       "      [1452/1452 30:25, Epoch 3/3]\n",
       "    </div>\n",
       "    <table border=\"1\" class=\"dataframe\">\n",
       "  <thead>\n",
       " <tr style=\"text-align: left;\">\n",
       "      <th>Step</th>\n",
       "      <th>Training Loss</th>\n",
       "      <th>Validation Loss</th>\n",
       "      <th>Acc</th>\n",
       "      <th>Prec</th>\n",
       "      <th>Recall</th>\n",
       "      <th>F1</th>\n",
       "    </tr>\n",
       "  </thead>\n",
       "  <tbody>\n",
       "    <tr>\n",
       "      <td>128</td>\n",
       "      <td>0.743500</td>\n",
       "      <td>0.646779</td>\n",
       "      <td>0.724483</td>\n",
       "      <td>0.490896</td>\n",
       "      <td>0.489344</td>\n",
       "      <td>0.483977</td>\n",
       "    </tr>\n",
       "    <tr>\n",
       "      <td>256</td>\n",
       "      <td>0.616200</td>\n",
       "      <td>0.585886</td>\n",
       "      <td>0.760507</td>\n",
       "      <td>0.507559</td>\n",
       "      <td>0.517719</td>\n",
       "      <td>0.512144</td>\n",
       "    </tr>\n",
       "    <tr>\n",
       "      <td>384</td>\n",
       "      <td>0.588400</td>\n",
       "      <td>0.555833</td>\n",
       "      <td>0.752502</td>\n",
       "      <td>0.502070</td>\n",
       "      <td>0.512288</td>\n",
       "      <td>0.506726</td>\n",
       "    </tr>\n",
       "    <tr>\n",
       "      <td>512</td>\n",
       "      <td>0.533700</td>\n",
       "      <td>0.580711</td>\n",
       "      <td>0.759840</td>\n",
       "      <td>0.839410</td>\n",
       "      <td>0.528293</td>\n",
       "      <td>0.530276</td>\n",
       "    </tr>\n",
       "    <tr>\n",
       "      <td>640</td>\n",
       "      <td>0.451000</td>\n",
       "      <td>0.589292</td>\n",
       "      <td>0.751167</td>\n",
       "      <td>0.585583</td>\n",
       "      <td>0.529966</td>\n",
       "      <td>0.537087</td>\n",
       "    </tr>\n",
       "    <tr>\n",
       "      <td>768</td>\n",
       "      <td>0.452200</td>\n",
       "      <td>0.603905</td>\n",
       "      <td>0.753836</td>\n",
       "      <td>0.587950</td>\n",
       "      <td>0.530992</td>\n",
       "      <td>0.538515</td>\n",
       "    </tr>\n",
       "    <tr>\n",
       "      <td>896</td>\n",
       "      <td>0.437300</td>\n",
       "      <td>0.598171</td>\n",
       "      <td>0.771181</td>\n",
       "      <td>0.681316</td>\n",
       "      <td>0.562170</td>\n",
       "      <td>0.580360</td>\n",
       "    </tr>\n",
       "    <tr>\n",
       "      <td>1024</td>\n",
       "      <td>0.373400</td>\n",
       "      <td>0.632183</td>\n",
       "      <td>0.756504</td>\n",
       "      <td>0.598424</td>\n",
       "      <td>0.549187</td>\n",
       "      <td>0.561793</td>\n",
       "    </tr>\n",
       "    <tr>\n",
       "      <td>1152</td>\n",
       "      <td>0.304200</td>\n",
       "      <td>0.683293</td>\n",
       "      <td>0.758506</td>\n",
       "      <td>0.601804</td>\n",
       "      <td>0.569434</td>\n",
       "      <td>0.581029</td>\n",
       "    </tr>\n",
       "    <tr>\n",
       "      <td>1280</td>\n",
       "      <td>0.278400</td>\n",
       "      <td>0.667854</td>\n",
       "      <td>0.762508</td>\n",
       "      <td>0.595593</td>\n",
       "      <td>0.571561</td>\n",
       "      <td>0.580581</td>\n",
       "    </tr>\n",
       "    <tr>\n",
       "      <td>1408</td>\n",
       "      <td>0.280400</td>\n",
       "      <td>0.677184</td>\n",
       "      <td>0.763175</td>\n",
       "      <td>0.587025</td>\n",
       "      <td>0.564146</td>\n",
       "      <td>0.572534</td>\n",
       "    </tr>\n",
       "  </tbody>\n",
       "</table><p>"
      ],
      "text/plain": [
       "<IPython.core.display.HTML object>"
      ]
     },
     "metadata": {},
     "output_type": "display_data"
    },
    {
     "data": {
      "text/plain": [
       "TrainOutput(global_step=1452, training_loss=0.4541370717618748, metrics={'train_runtime': 1826.5785, 'train_samples_per_second': 25.403, 'train_steps_per_second': 0.795, 'total_flos': 6104362847998464.0, 'train_loss': 0.4541370717618748, 'epoch': 3.0})"
      ]
     },
     "execution_count": 8,
     "metadata": {},
     "output_type": "execute_result"
    }
   ],
   "source": [
    "trainer.train()\n"
   ]
  },
  {
   "cell_type": "code",
   "execution_count": 9,
   "id": "7e641ee3",
   "metadata": {},
   "outputs": [
    {
     "name": "stderr",
     "output_type": "stream",
     "text": [
      "Device set to use cuda:0\n"
     ]
    },
    {
     "name": "stdout",
     "output_type": "stream",
     "text": [
      "Accuracy  = 0.7585\n",
      "Precision = 0.6018\n",
      "Recall    = 0.5694\n",
      "F1        = 0.5810\n"
     ]
    }
   ],
   "source": [
    "model.eval()\n",
    "eval_pipeline = pipeline(task='text-classification', model=model, tokenizer=tokenizer)\n",
    "eval_pred = eval_pipeline([{'text': s1, 'text_pair': s2} for s1, s2 in eval_dataset_tok['text']])\n",
    "labels = eval_dataset_tok['label']\n",
    "predictions = [model.config.label2id[x['label']] for x in eval_pred]\n",
    "accuracy = accuracy_score(labels, predictions)\n",
    "precision, recall, f1, _ = precision_recall_fscore_support(labels, predictions, average='macro', zero_division=0)\n",
    "\n",
    "print(f'Accuracy  = {accuracy:0.4f}')\n",
    "print(f'Precision = {precision:0.4f}')\n",
    "print(f'Recall    = {recall:0.4f}')\n",
    "print(f'F1        = {f1:0.4f}')\n"
   ]
  }
 ],
 "metadata": {
  "kernelspec": {
   "display_name": ".venv",
   "language": "python",
   "name": "python3"
  },
  "language_info": {
   "codemirror_mode": {
    "name": "ipython",
    "version": 3
   },
   "file_extension": ".py",
   "mimetype": "text/x-python",
   "name": "python",
   "nbconvert_exporter": "python",
   "pygments_lexer": "ipython3",
   "version": "3.12.8"
  }
 },
 "nbformat": 4,
 "nbformat_minor": 5
}
