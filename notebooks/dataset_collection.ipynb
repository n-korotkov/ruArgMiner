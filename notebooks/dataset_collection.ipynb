{
 "cells": [
  {
   "cell_type": "code",
   "execution_count": 1,
   "id": "d43036d8",
   "metadata": {},
   "outputs": [],
   "source": [
    "import os\n",
    "import sys\n",
    "parent_dir = os.path.abspath('..')\n",
    "if parent_dir not in sys.path:\n",
    "    sys.path.append(parent_dir)\n"
   ]
  },
  {
   "cell_type": "code",
   "execution_count": 2,
   "id": "ced470e9",
   "metadata": {},
   "outputs": [
    {
     "name": "stderr",
     "output_type": "stream",
     "text": [
      "d:\\Documents\\nsu\\ruArgMiner\\.venv\\Lib\\site-packages\\tqdm\\auto.py:21: TqdmWarning: IProgress not found. Please update jupyter and ipywidgets. See https://ipywidgets.readthedocs.io/en/stable/user_install.html\n",
      "  from .autonotebook import tqdm as notebook_tqdm\n"
     ]
    }
   ],
   "source": [
    "import json\n",
    "import spacy\n",
    "from pathlib import Path\n",
    "\n",
    "from corpus_utils import *\n",
    "from segmentation import *\n",
    "from simple_structure import *\n",
    "from dataset_utils import *\n"
   ]
  },
  {
   "cell_type": "code",
   "execution_count": 3,
   "id": "2ae5101d",
   "metadata": {},
   "outputs": [],
   "source": [
    "RANDOM_STATE = 42\n",
    "CORPORA_DIR = Path('../corpora')\n",
    "OUTPUT_DIR = Path('../datasets')\n"
   ]
  },
  {
   "cell_type": "code",
   "execution_count": 4,
   "id": "606b5874",
   "metadata": {},
   "outputs": [
    {
     "name": "stdout",
     "output_type": "stream",
     "text": [
      "'https://osf.io/qu4e2/download/ipl/#abc47ef1-8c9b-41ed-9c20-c13b124eb71a'\n",
      "Excluding project \"ISK\" from text \"Искусственный интеллект-3\"\n",
      "'https://osf.io/qu4e2/download/ipl/#c8099f8b-6c88-4717-9ebb-f0bde7938ddf'\n",
      "Excluding project \"ISK\" from text \"Искусственный интеллект-6\"\n"
     ]
    }
   ],
   "source": [
    "with open(CORPORA_DIR / 'corpus_sci_comm.json') as corpus_file:\n",
    "    corpus_sci_comm = Corpus.from_dict(json.loads(corpus_file.read()))\n",
    "\n",
    "with open(CORPORA_DIR / 'corpus_sci_corpus.json') as corpus_file:\n",
    "    corpus_sci_corpus = Corpus.from_dict(json.loads(corpus_file.read()))\n",
    "\n",
    "flat_corpus_sci_comm = Corpus.flatten(corpus_sci_comm)\n",
    "flat_corpus_sci_corpus = Corpus.flatten(corpus_sci_corpus)\n",
    "full_corpus = Corpus.merge(flat_corpus_sci_comm, flat_corpus_sci_corpus)\n"
   ]
  },
  {
   "cell_type": "code",
   "execution_count": 5,
   "id": "73ab6cc7",
   "metadata": {},
   "outputs": [],
   "source": [
    "spacy.prefer_gpu()\n",
    "nlp = spacy.load('ru_core_news_lg')\n",
    "nlp.enable_pipe('senter')\n",
    "\n",
    "def project_with_most_comments(text):\n",
    "    return max(text.projects, key=lambda project: len({stmt.record for stmt in project.statements}))\n",
    "\n",
    "def segment_into_sentences(paragraphs):\n",
    "    with nlp.select_pipes(enable=['tok2vec', 'parser']):\n",
    "        return [[(sent.start_char, sent.end_char) for sent in doc.sents] for doc in nlp.pipe(paragraphs)]\n",
    "\n",
    "def intersect_three_quarters_stmt(_, stmt_span, frag_span):\n",
    "    return min(frag_span[1], stmt_span[1]) - max(frag_span[0], stmt_span[0]) >= 3/4 * (stmt_span[1] - stmt_span[0])\n",
    "\n",
    "all_projects = [project_with_most_comments(text) for text in full_corpus.texts]\n",
    "all_segmentations = segment_texts(full_corpus.texts, segment_into_sentences)\n",
    "all_structures = [build_simple_structure(*z, intersect_three_quarters_stmt) for z in zip(all_projects, all_segmentations)]\n"
   ]
  },
  {
   "cell_type": "code",
   "execution_count": 6,
   "id": "90176404",
   "metadata": {},
   "outputs": [
    {
     "name": "stderr",
     "output_type": "stream",
     "text": [
      "Saving the dataset (1/1 shards): 100%|██████████| 15467/15467 [00:00<00:00, 1928801.21 examples/s]\n",
      "Saving the dataset (1/1 shards): 100%|██████████| 1499/1499 [00:00<00:00, 125359.13 examples/s]\n",
      "Saving the dataset (1/1 shards): 100%|██████████| 1428/1428 [00:00<00:00, 356919.50 examples/s]\n",
      "Saving the dataset (1/1 shards): 100%|██████████| 15467/15467 [00:00<00:00, 1530030.66 examples/s]\n",
      "Saving the dataset (1/1 shards): 100%|██████████| 1499/1499 [00:00<?, ? examples/s]\n",
      "Saving the dataset (1/1 shards): 100%|██████████| 1428/1428 [00:00<00:00, 322135.54 examples/s]\n",
      "Saving the dataset (1/1 shards): 100%|██████████| 15467/15467 [00:00<00:00, 1214605.60 examples/s]\n",
      "Saving the dataset (1/1 shards): 100%|██████████| 1499/1499 [00:00<00:00, 6441866.49 examples/s]\n",
      "Saving the dataset (1/1 shards): 100%|██████████| 1428/1428 [00:00<00:00, 165482.29 examples/s]\n",
      "Map: 100%|██████████| 15467/15467 [00:01<00:00, 13440.07 examples/s]\n",
      "Map: 100%|██████████| 1499/1499 [00:00<00:00, 13031.59 examples/s]\n",
      "Map: 100%|██████████| 1428/1428 [00:00<00:00, 13958.27 examples/s]\n",
      "Saving the dataset (1/1 shards): 100%|██████████| 15467/15467 [00:00<00:00, 1172331.35 examples/s]\n",
      "Saving the dataset (1/1 shards): 100%|██████████| 1499/1499 [00:00<00:00, 455730.77 examples/s]\n",
      "Saving the dataset (1/1 shards): 100%|██████████| 1428/1428 [00:00<?, ? examples/s]\n"
     ]
    }
   ],
   "source": [
    "dataset_kwargs = {\n",
    "    'eval_size': 1/10,\n",
    "    'test_size': 1/10,\n",
    "    'random_state': RANDOM_STATE,\n",
    "}\n",
    "\n",
    "for ctx_len in [0, 1, 2]:\n",
    "    build_dataset(all_structures, link_pairs_from_simple_structures, ctx_len=ctx_len, **dataset_kwargs).save_to_disk(OUTPUT_DIR / 'link_classification' / f'{ctx_len}ctx', max_shard_size='50MB')\n",
    "\n",
    "link_classification_dataset_1ctx_label = build_dataset(all_structures, link_pairs_from_simple_structures, ctx_len=1, **dataset_kwargs).map(lambda row: {\n",
    "    'fragment1_left':   f'Перед посылкой: {row[\"fragment1_left\"]}',\n",
    "    'fragment1':        f'Посылка: {row[\"fragment1\"]}',\n",
    "    'fragment1_right':  f'После посылки: {row[\"fragment1_right\"]}',\n",
    "    'fragment2_left':   f'Перед заключением: {row[\"fragment2_left\"]}',\n",
    "    'fragment2':        f'Заключение: {row[\"fragment2\"]}',\n",
    "    'fragment2_right':  f'После заключения: {row[\"fragment2_right\"]}',\n",
    "    'label': row['label'],\n",
    "})\n",
    "link_classification_dataset_1ctx_label.save_to_disk(OUTPUT_DIR / 'link_classification' / '1ctx_label', max_shard_size='50MB')\n"
   ]
  },
  {
   "cell_type": "code",
   "execution_count": 7,
   "id": "c74f3f53",
   "metadata": {},
   "outputs": [
    {
     "name": "stderr",
     "output_type": "stream",
     "text": [
      "Saving the dataset (1/1 shards): 100%|██████████| 24143/24143 [00:00<00:00, 1451779.64 examples/s]\n",
      "Saving the dataset (1/1 shards): 100%|██████████| 2134/2134 [00:00<00:00, 533284.36 examples/s]\n",
      "Saving the dataset (1/1 shards): 100%|██████████| 2129/2129 [00:00<00:00, 657270.22 examples/s]\n",
      "Saving the dataset (1/1 shards): 100%|██████████| 34359/34359 [00:00<00:00, 2755805.47 examples/s]\n",
      "Saving the dataset (1/1 shards): 100%|██████████| 3168/3168 [00:00<00:00, 191579.27 examples/s]\n",
      "Saving the dataset (1/1 shards): 100%|██████████| 3088/3088 [00:00<?, ? examples/s]\n",
      "Saving the dataset (1/1 shards): 100%|██████████| 24143/24143 [00:00<00:00, 724099.06 examples/s] \n",
      "Saving the dataset (1/1 shards): 100%|██████████| 2134/2134 [00:00<00:00, 1526111.63 examples/s]\n",
      "Saving the dataset (1/1 shards): 100%|██████████| 2129/2129 [00:00<?, ? examples/s]\n",
      "Saving the dataset (2/2 shards): 100%|██████████| 34359/34359 [00:00<00:00, 1046725.29 examples/s]\n",
      "Saving the dataset (1/1 shards): 100%|██████████| 3168/3168 [00:00<00:00, 584273.81 examples/s]\n",
      "Saving the dataset (1/1 shards): 100%|██████████| 3088/3088 [00:00<?, ? examples/s]\n"
     ]
    }
   ],
   "source": [
    "for ctx_len in [0, 1]:\n",
    "    triplet_dataset = build_dataset(all_structures, triplets_from_simple_structures, ctx_len=ctx_len, **dataset_kwargs)\n",
    "    triplet_dataset_transitive = merge_datasets(triplet_dataset, build_dataset(all_structures, transitive_triplets_from_simple_structures, ctx_len=ctx_len, **dataset_kwargs))\n",
    "    triplet_dataset.save_to_disk(OUTPUT_DIR / 'similarity_learning' / f'{ctx_len}ctx', max_shard_size='50MB')\n",
    "    triplet_dataset_transitive.save_to_disk(OUTPUT_DIR / 'similarity_learning' / f'{ctx_len}ctx_transitive', max_shard_size='50MB')\n"
   ]
  },
  {
   "cell_type": "code",
   "execution_count": 8,
   "id": "82c5ba43",
   "metadata": {},
   "outputs": [
    {
     "name": "stderr",
     "output_type": "stream",
     "text": [
      "Saving the dataset (2/2 shards): 100%|██████████| 118188/118188 [00:00<00:00, 1941154.09 examples/s]\n",
      "Saving the dataset (1/1 shards): 100%|██████████| 16204/16204 [00:00<00:00, 1096449.23 examples/s]\n",
      "Saving the dataset (1/1 shards): 100%|██████████| 14825/14825 [00:00<00:00, 7397163.55 examples/s]\n",
      "Saving the dataset (3/3 shards): 100%|██████████| 118188/118188 [00:00<00:00, 1464303.15 examples/s]\n",
      "Saving the dataset (1/1 shards): 100%|██████████| 16204/16204 [00:00<00:00, 1091063.09 examples/s]\n",
      "Saving the dataset (1/1 shards): 100%|██████████| 14825/14825 [00:00<00:00, 29372015.49 examples/s]\n"
     ]
    }
   ],
   "source": [
    "for ctx_len in [0, 1]:\n",
    "    random_pairs_dataset = build_dataset(all_structures, random_pairs_from_simple_structures, ctx_len=ctx_len, **dataset_kwargs)\n",
    "    random_pairs_dataset.save_to_disk(OUTPUT_DIR / 'random_pairs' / f'{ctx_len}ctx', max_shard_size='50MB')\n"
   ]
  }
 ],
 "metadata": {
  "kernelspec": {
   "display_name": ".venv",
   "language": "python",
   "name": "python3"
  },
  "language_info": {
   "codemirror_mode": {
    "name": "ipython",
    "version": 3
   },
   "file_extension": ".py",
   "mimetype": "text/x-python",
   "name": "python",
   "nbconvert_exporter": "python",
   "pygments_lexer": "ipython3",
   "version": "3.12.8"
  }
 },
 "nbformat": 4,
 "nbformat_minor": 5
}
